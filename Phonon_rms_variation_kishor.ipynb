{
 "cells": [
  {
   "cell_type": "code",
   "execution_count": 27,
   "metadata": {},
   "outputs": [
    {
     "name": "stdout",
     "output_type": "stream",
     "text": [
      "total data read is(395010 = m x n) : \n",
      "395010\n",
      " max_displacement = 0.09353153886728244 min_displacement = 0.0003506334518449361\n"
     ]
    }
   ],
   "source": [
    "#the code takes only a one dimensional arrays. Convert to one dimensional first.\n",
    "import numpy as np\n",
    "m = 627\n",
    "n = 630\n",
    "disp_array = np.loadtxt(\"displacement_array\")\n",
    "freq_array = np.loadtxt(\"freq_mev.dat\")\n",
    "delta_dvd_freq_squared = []# store as name says\n",
    "summed_variation = [] # delta_x_squared(look formula for rms variations)\n",
    "\n",
    "for j in range(m):\n",
    "    for i in np.arange(n*j,(j+1)*n):\n",
    "        dx_dvd_freq_squared = (disp_array[i])**2/(freq_array[j])**2\n",
    "        delta_dvd_freq_squared.append(dx_dvd_freq_squared)\n",
    "    j += 1\n",
    "print(\"total data read is(395010 = m x n) : \") \n",
    "print(i+1) # to check if everything goes right\n",
    "#print(delta_dvd_freq_squared[i])\n",
    "for line in np.arange(0,n):\n",
    "    number = delta_dvd_freq_squared[line]\n",
    "    for i in np.arange(m):      \n",
    "        number = number + delta_dvd_freq_squared[i*n+line]\n",
    "    summed_variation.append(number)\n",
    "print(f' max_displacement = {max(summed_variation)} min_displacement = {min(summed_variation)}')"
   ]
  },
  {
   "cell_type": "code",
   "execution_count": null,
   "metadata": {},
   "outputs": [],
   "source": [
    "#Gaussian Broadening\n"
   ]
  }
 ],
 "metadata": {
  "kernelspec": {
   "display_name": "Python 3",
   "language": "python",
   "name": "python3"
  },
  "language_info": {
   "codemirror_mode": {
    "name": "ipython",
    "version": 3
   },
   "file_extension": ".py",
   "mimetype": "text/x-python",
   "name": "python",
   "nbconvert_exporter": "python",
   "pygments_lexer": "ipython3",
   "version": "3.8.5"
  }
 },
 "nbformat": 4,
 "nbformat_minor": 4
}
